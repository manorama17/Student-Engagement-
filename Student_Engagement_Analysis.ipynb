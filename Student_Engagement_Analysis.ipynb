{
  "nbformat": 4,
  "nbformat_minor": 0,
  "metadata": {
    "colab": {
      "provenance": [],
      "collapsed_sections": [
        "puS8nTXmBB44",
        "eTAUQYEzBoM1",
        "Aaj_LEO56KCZ",
        "MjU-h8cyUsR1",
        "Kxz8Z0XIlFS5",
        "PWAp8q4sMe9U",
        "ScxNRQ_fvm_O",
        "7-S_lbbr8VWU",
        "xh_e4_yS1P72"
      ]
    },
    "kernelspec": {
      "name": "python3",
      "display_name": "Python 3"
    },
    "language_info": {
      "name": "python"
    }
  },
  "cells": [
    {
      "cell_type": "markdown",
      "source": [
        "# **Importing Libraries**"
      ],
      "metadata": {
        "id": "puS8nTXmBB44"
      }
    },
    {
      "cell_type": "code",
      "source": [
        "import pandas as pd\n",
        "import matplotlib.pyplot as plt\n",
        "import seaborn as sns"
      ],
      "metadata": {
        "id": "1hY5HxThBaI4"
      },
      "execution_count": 40,
      "outputs": []
    },
    {
      "cell_type": "markdown",
      "source": [
        "# **Read Data**"
      ],
      "metadata": {
        "id": "eTAUQYEzBoM1"
      }
    },
    {
      "cell_type": "code",
      "source": [
        "registered = pd.read_csv('registered.csv')\n",
        "engagement = pd.read_csv('engagement.csv')\n",
        "course = pd.read_csv('course.csv')"
      ],
      "metadata": {
        "id": "6dX9u9ApCGTB"
      },
      "execution_count": 41,
      "outputs": []
    },
    {
      "cell_type": "markdown",
      "source": [
        "# **Analysis**"
      ],
      "metadata": {
        "id": "o7Qiajf6RKj8"
      }
    },
    {
      "cell_type": "markdown",
      "source": [
        "# **Registered vs Active Users**"
      ],
      "metadata": {
        "id": "Aaj_LEO56KCZ"
      }
    },
    {
      "cell_type": "code",
      "source": [
        "print(registered.head())"
      ],
      "metadata": {
        "colab": {
          "base_uri": "https://localhost:8080/"
        },
        "id": "7BrEh3rfSXzs",
        "outputId": "e98efde8-bb8f-461e-f069-41bf69f7802d"
      },
      "execution_count": 42,
      "outputs": [
        {
          "output_type": "stream",
          "name": "stdout",
          "text": [
            "   student_id student_country date_registered\n",
            "0      258798              IN      2022-01-01\n",
            "1      258799              CO      2022-01-01\n",
            "2      258800              CA      2022-01-01\n",
            "3      258801              IN      2022-01-01\n",
            "4      258802              US      2022-01-01\n"
          ]
        }
      ]
    },
    {
      "cell_type": "code",
      "source": [
        "print(registered.info())"
      ],
      "metadata": {
        "colab": {
          "base_uri": "https://localhost:8080/"
        },
        "id": "bH4D_5MnCu-I",
        "outputId": "a11323b6-ca30-41e9-cef9-cefea216e24e"
      },
      "execution_count": 43,
      "outputs": [
        {
          "output_type": "stream",
          "name": "stdout",
          "text": [
            "<class 'pandas.core.frame.DataFrame'>\n",
            "RangeIndex: 35230 entries, 0 to 35229\n",
            "Data columns (total 3 columns):\n",
            " #   Column           Non-Null Count  Dtype \n",
            "---  ------           --------------  ----- \n",
            " 0   student_id       35230 non-null  int64 \n",
            " 1   student_country  35217 non-null  object\n",
            " 2   date_registered  35230 non-null  object\n",
            "dtypes: int64(1), object(2)\n",
            "memory usage: 825.8+ KB\n",
            "None\n"
          ]
        }
      ]
    },
    {
      "cell_type": "code",
      "source": [
        "registered['date_registered'] = pd.to_datetime(registered['date_registered'],format='%Y-%m-%d')\n",
        "print(registered.info())"
      ],
      "metadata": {
        "colab": {
          "base_uri": "https://localhost:8080/"
        },
        "id": "_SGPMP-JVmaj",
        "outputId": "ce993759-d3a5-4837-c8d1-18dc2d6a29d4"
      },
      "execution_count": 44,
      "outputs": [
        {
          "output_type": "stream",
          "name": "stdout",
          "text": [
            "<class 'pandas.core.frame.DataFrame'>\n",
            "RangeIndex: 35230 entries, 0 to 35229\n",
            "Data columns (total 3 columns):\n",
            " #   Column           Non-Null Count  Dtype         \n",
            "---  ------           --------------  -----         \n",
            " 0   student_id       35230 non-null  int64         \n",
            " 1   student_country  35217 non-null  object        \n",
            " 2   date_registered  35230 non-null  datetime64[ns]\n",
            "dtypes: datetime64[ns](1), int64(1), object(1)\n",
            "memory usage: 825.8+ KB\n",
            "None\n"
          ]
        }
      ]
    },
    {
      "cell_type": "code",
      "source": [
        "registered['month_name'] = registered['date_registered'].dt.month_name()\n",
        "print(registered)"
      ],
      "metadata": {
        "colab": {
          "base_uri": "https://localhost:8080/"
        },
        "id": "lqGLvWQai49y",
        "outputId": "3ba9d404-174f-4dbb-d666-1b626301dcca"
      },
      "execution_count": 45,
      "outputs": [
        {
          "output_type": "stream",
          "name": "stdout",
          "text": [
            "       student_id student_country date_registered month_name\n",
            "0          258798              IN      2022-01-01    January\n",
            "1          258799              CO      2022-01-01    January\n",
            "2          258800              CA      2022-01-01    January\n",
            "3          258801              IN      2022-01-01    January\n",
            "4          258802              US      2022-01-01    January\n",
            "...           ...             ...             ...        ...\n",
            "35225      295511              CM      2022-10-20    October\n",
            "35226      295512              CA      2022-10-20    October\n",
            "35227      295513              SA      2022-10-20    October\n",
            "35228      295514              NL      2022-10-20    October\n",
            "35229      295515              SG      2022-10-20    October\n",
            "\n",
            "[35230 rows x 4 columns]\n"
          ]
        }
      ]
    },
    {
      "cell_type": "code",
      "source": [
        "plt.figure(figsize = (10,5))\n",
        "sns.countplot(data=registered,x='month_name',palette='Blues')"
      ],
      "metadata": {
        "colab": {
          "base_uri": "https://localhost:8080/",
          "height": 0
        },
        "id": "aCQhTrm1iowK",
        "outputId": "338e4533-bb2b-4835-aed4-163f71964b6a"
      },
      "execution_count": 46,
      "outputs": [
        {
          "output_type": "execute_result",
          "data": {
            "text/plain": [
              "<matplotlib.axes._subplots.AxesSubplot at 0x7f315dddfdf0>"
            ]
          },
          "metadata": {},
          "execution_count": 46
        },
        {
          "output_type": "display_data",
          "data": {
            "text/plain": [
              "<Figure size 720x360 with 1 Axes>"
            ],
            "image/png": "[encoded data removed]"
          },
          "metadata": {
            "needs_background": "light"
          }
        }
      ]
    },
    {
      "cell_type": "code",
      "source": [
        "print(engagement.head())"
      ],
      "metadata": {
        "colab": {
          "base_uri": "https://localhost:8080/"
        },
        "id": "WOQ7LszfG5oW",
        "outputId": "257a4fe6-17d6-4d38-bf55-7a8505b21c90"
      },
      "execution_count": 47,
      "outputs": [
        {
          "output_type": "stream",
          "name": "stdout",
          "text": [
            "   engagement_id  student_id  engagement_quizzes  engagement_exams  \\\n",
            "0              1      274999                   1                 1   \n",
            "1              3      274501                   0                 0   \n",
            "2              4      272842                   1                 1   \n",
            "3              8      275173                   0                 0   \n",
            "4             11      274876                   0                 1   \n",
            "\n",
            "   engagement_lessons date_engaged  \n",
            "0                   1   2022-05-27  \n",
            "1                   1   2022-05-27  \n",
            "2                   1   2022-05-27  \n",
            "3                   1   2022-05-27  \n",
            "4                   0   2022-05-27  \n"
          ]
        }
      ]
    },
    {
      "cell_type": "code",
      "source": [
        "print(engagement.info())"
      ],
      "metadata": {
        "colab": {
          "base_uri": "https://localhost:8080/"
        },
        "id": "rb5ciM6eGjZ-",
        "outputId": "6bbefb3e-0fa8-4ee7-aa23-d34db19a5c87"
      },
      "execution_count": 48,
      "outputs": [
        {
          "output_type": "stream",
          "name": "stdout",
          "text": [
            "<class 'pandas.core.frame.DataFrame'>\n",
            "RangeIndex: 65371 entries, 0 to 65370\n",
            "Data columns (total 6 columns):\n",
            " #   Column              Non-Null Count  Dtype \n",
            "---  ------              --------------  ----- \n",
            " 0   engagement_id       65371 non-null  int64 \n",
            " 1   student_id          65371 non-null  int64 \n",
            " 2   engagement_quizzes  65371 non-null  int64 \n",
            " 3   engagement_exams    65371 non-null  int64 \n",
            " 4   engagement_lessons  65371 non-null  int64 \n",
            " 5   date_engaged        65371 non-null  object\n",
            "dtypes: int64(5), object(1)\n",
            "memory usage: 3.0+ MB\n",
            "None\n"
          ]
        }
      ]
    },
    {
      "cell_type": "code",
      "source": [
        "lessons = engagement.loc[engagement['engagement_lessons']==1][['student_id','date_engaged']]\n",
        "quizzes = engagement.loc[engagement['engagement_quizzes']==1][['student_id','date_engaged']]\n",
        "exams = engagement.loc[engagement['engagement_exams']==1][['student_id','date_engaged']]\n",
        "active = pd.concat([lessons,quizzes,exams])\n",
        "active = active.drop_duplicates(subset=['student_id']).reset_index()\n",
        "print(active)"
      ],
      "metadata": {
        "colab": {
          "base_uri": "https://localhost:8080/"
        },
        "id": "NWYaXAGlVDOc",
        "outputId": "9e21952c-4e3b-4a7b-ca81-41f6acb0fb9e"
      },
      "execution_count": 49,
      "outputs": [
        {
          "output_type": "stream",
          "name": "stdout",
          "text": [
            "       index  student_id date_engaged\n",
            "0          0      274999   2022-05-27\n",
            "1          1      274501   2022-05-27\n",
            "2          2      272842   2022-05-27\n",
            "3          3      275173   2022-05-27\n",
            "4          5      275020   2022-05-27\n",
            "...      ...         ...          ...\n",
            "18339  60390      293554   2022-10-06\n",
            "18340  62106      294283   2022-10-11\n",
            "18341  62711      294508   2022-10-13\n",
            "18342  64153      295073   2022-10-17\n",
            "18343  65242      295453   2022-10-20\n",
            "\n",
            "[18344 rows x 3 columns]\n"
          ]
        }
      ]
    },
    {
      "cell_type": "code",
      "source": [
        "print(active.info())"
      ],
      "metadata": {
        "colab": {
          "base_uri": "https://localhost:8080/"
        },
        "id": "Y2Ft72f8WSkD",
        "outputId": "8719b254-1f46-4b3f-a501-b70e4bcbc933"
      },
      "execution_count": 50,
      "outputs": [
        {
          "output_type": "stream",
          "name": "stdout",
          "text": [
            "<class 'pandas.core.frame.DataFrame'>\n",
            "RangeIndex: 18344 entries, 0 to 18343\n",
            "Data columns (total 3 columns):\n",
            " #   Column        Non-Null Count  Dtype \n",
            "---  ------        --------------  ----- \n",
            " 0   index         18344 non-null  int64 \n",
            " 1   student_id    18344 non-null  int64 \n",
            " 2   date_engaged  18344 non-null  object\n",
            "dtypes: int64(2), object(1)\n",
            "memory usage: 430.1+ KB\n",
            "None\n"
          ]
        }
      ]
    },
    {
      "cell_type": "code",
      "source": [
        "active['date_engaged'] = pd.to_datetime(active['date_engaged'],format='%Y-%m-%d')\n",
        "print(active.info())"
      ],
      "metadata": {
        "colab": {
          "base_uri": "https://localhost:8080/"
        },
        "id": "GrPUIxKngNiz",
        "outputId": "f8331f9d-95d3-40e1-8204-3efce6aae0e8"
      },
      "execution_count": 51,
      "outputs": [
        {
          "output_type": "stream",
          "name": "stdout",
          "text": [
            "<class 'pandas.core.frame.DataFrame'>\n",
            "RangeIndex: 18344 entries, 0 to 18343\n",
            "Data columns (total 3 columns):\n",
            " #   Column        Non-Null Count  Dtype         \n",
            "---  ------        --------------  -----         \n",
            " 0   index         18344 non-null  int64         \n",
            " 1   student_id    18344 non-null  int64         \n",
            " 2   date_engaged  18344 non-null  datetime64[ns]\n",
            "dtypes: datetime64[ns](1), int64(2)\n",
            "memory usage: 430.1 KB\n",
            "None\n"
          ]
        }
      ]
    },
    {
      "cell_type": "code",
      "source": [
        "active['month_name'] = active['date_engaged'].dt.month_name()\n",
        "print(active)"
      ],
      "metadata": {
        "colab": {
          "base_uri": "https://localhost:8080/"
        },
        "id": "FoS6UbjJm_GK",
        "outputId": "c26a1693-bec6-4f99-ac90-f0f89a3bb488"
      },
      "execution_count": 52,
      "outputs": [
        {
          "output_type": "stream",
          "name": "stdout",
          "text": [
            "       index  student_id date_engaged month_name\n",
            "0          0      274999   2022-05-27        May\n",
            "1          1      274501   2022-05-27        May\n",
            "2          2      272842   2022-05-27        May\n",
            "3          3      275173   2022-05-27        May\n",
            "4          5      275020   2022-05-27        May\n",
            "...      ...         ...          ...        ...\n",
            "18339  60390      293554   2022-10-06    October\n",
            "18340  62106      294283   2022-10-11    October\n",
            "18341  62711      294508   2022-10-13    October\n",
            "18342  64153      295073   2022-10-17    October\n",
            "18343  65242      295453   2022-10-20    October\n",
            "\n",
            "[18344 rows x 4 columns]\n"
          ]
        }
      ]
    },
    {
      "cell_type": "code",
      "source": [
        "plt.figure(figsize = (10,5))\n",
        "sns.countplot(data=active,x='month_name',palette='RdPu')"
      ],
      "metadata": {
        "colab": {
          "base_uri": "https://localhost:8080/",
          "height": 0
        },
        "id": "q1l_u_nLg-7T",
        "outputId": "4dd4f80f-6312-483a-e4e7-59640f30c6e9"
      },
      "execution_count": 53,
      "outputs": [
        {
          "output_type": "execute_result",
          "data": {
            "text/plain": [
              "<matplotlib.axes._subplots.AxesSubplot at 0x7f315de501c0>"
            ]
          },
          "metadata": {},
          "execution_count": 53
        },
        {
          "output_type": "display_data",
          "data": {
            "text/plain": [
              "<Figure size 720x360 with 1 Axes>"
            ],
            "image/png": "[encoded data removed]"
          },
          "metadata": {
            "needs_background": "light"
          }
        }
      ]
    },
    {
      "cell_type": "markdown",
      "source": [
        "**Information**\n",
        "\n",
        "Registered Users - Users who have completed signing up process in order to use the platform\n",
        "\n",
        "Active Users - Users who have atleast done one of the following:\n",
        "*   Watched Lesson\n",
        "*   Given Quiz\n",
        "*   Taken Exam\n",
        "\n",
        "**Observation**\n",
        "\n",
        "Out of total registered students every month only 50% of them are actively using the platform for either learning or taking quizzes or exams which means the engagement of students with the platform is pretty low.\n"
      ],
      "metadata": {
        "id": "XBMriVS86cjv"
      }
    },
    {
      "cell_type": "markdown",
      "source": [
        "# **Top 5 Countries by Student Registration**"
      ],
      "metadata": {
        "id": "MjU-h8cyUsR1"
      }
    },
    {
      "cell_type": "code",
      "source": [
        "freq_dict_country = {}\n",
        "for country in registered['student_country']:\n",
        "  if country in freq_dict_country:\n",
        "    freq_dict_country[country] = freq_dict_country[country] + 1\n",
        "  else:\n",
        "    freq_dict_country[country] = 1\n",
        "country = pd.DataFrame(freq_dict_country.items(),columns=['country','count'])\n",
        "print(country)"
      ],
      "metadata": {
        "id": "In-tvsB9VAx7",
        "colab": {
          "base_uri": "https://localhost:8080/"
        },
        "outputId": "27fc8bbd-8011-48d8-9418-0d349d00790a"
      },
      "execution_count": 54,
      "outputs": [
        {
          "output_type": "stream",
          "name": "stdout",
          "text": [
            "    country  count\n",
            "0        IN   6933\n",
            "1        CO    157\n",
            "2        CA   1180\n",
            "3        US   4768\n",
            "4        BD    362\n",
            "..      ...    ...\n",
            "176      GU      1\n",
            "177      FJ      5\n",
            "178      KY      1\n",
            "179      VI      1\n",
            "180      IS      2\n",
            "\n",
            "[181 rows x 2 columns]\n"
          ]
        }
      ]
    },
    {
      "cell_type": "code",
      "source": [
        "top_5_country = country.sort_values('count',axis=0,ascending=False).head(5)\n",
        "print(top_5_country.reset_index(drop=True))\n",
        "sns.barplot(data=top_5_country,x='count',y='country',palette='GnBu_d')"
      ],
      "metadata": {
        "colab": {
          "base_uri": "https://localhost:8080/",
          "height": 0
        },
        "id": "HPZefmVLhiDZ",
        "outputId": "0163f2fd-244e-45fc-ea86-d580ee6fd81c"
      },
      "execution_count": 55,
      "outputs": [
        {
          "output_type": "stream",
          "name": "stdout",
          "text": [
            "  country  count\n",
            "0      IN   6933\n",
            "1      US   4768\n",
            "2      EG   3003\n",
            "3      GB   1748\n",
            "4      NG   1718\n"
          ]
        },
        {
          "output_type": "execute_result",
          "data": {
            "text/plain": [
              "<matplotlib.axes._subplots.AxesSubplot at 0x7f315dc4edc0>"
            ]
          },
          "metadata": {},
          "execution_count": 55
        },
        {
          "output_type": "display_data",
          "data": {
            "text/plain": [
              "<Figure size 432x288 with 1 Axes>"
            ],
            "image/png": "[encoded data removed]"
          },
          "metadata": {
            "needs_background": "light"
          }
        }
      ]
    },
    {
      "cell_type": "markdown",
      "source": [
        "**Observation**\n",
        "\n",
        "*   Most Registered Students are from India ie. 20% followed by US 13% and then Egypt with 8%.\n"
      ],
      "metadata": {
        "id": "upTQmdralB9B"
      }
    },
    {
      "cell_type": "markdown",
      "source": [
        "# **Average Watch Time Every Month**"
      ],
      "metadata": {
        "id": "Kxz8Z0XIlFS5"
      }
    },
    {
      "cell_type": "code",
      "source": [
        "print(course.head())"
      ],
      "metadata": {
        "colab": {
          "base_uri": "https://localhost:8080/"
        },
        "id": "5tzxNGxnAxTm",
        "outputId": "c34aa724-ee9c-4ce7-f1ad-dc49dda09e23"
      },
      "execution_count": 56,
      "outputs": [
        {
          "output_type": "stream",
          "name": "stdout",
          "text": [
            "   student_id  course_id                            course_name  \\\n",
            "0      258798         23                  Introduction to Excel   \n",
            "1      258800          2                Introduction to Tableau   \n",
            "2      258800          7  Introduction to Data and Data Science   \n",
            "3      258800          7  Introduction to Data and Data Science   \n",
            "4      258800          7  Introduction to Data and Data Science   \n",
            "\n",
            "   minutes_watched date_watched  \n",
            "0              0.3   01-01-2022  \n",
            "1             12.9   01-04-2022  \n",
            "2             46.8   03-01-2022  \n",
            "3              4.3   04-01-2022  \n",
            "4             31.7   07-01-2022  \n"
          ]
        }
      ]
    },
    {
      "cell_type": "code",
      "source": [
        "print(course.info())"
      ],
      "metadata": {
        "colab": {
          "base_uri": "https://localhost:8080/"
        },
        "id": "fzFNnZ2AHVUm",
        "outputId": "f19c8674-d632-4f27-b960-48e4a796c7cf"
      },
      "execution_count": 57,
      "outputs": [
        {
          "output_type": "stream",
          "name": "stdout",
          "text": [
            "<class 'pandas.core.frame.DataFrame'>\n",
            "RangeIndex: 64535 entries, 0 to 64534\n",
            "Data columns (total 5 columns):\n",
            " #   Column           Non-Null Count  Dtype  \n",
            "---  ------           --------------  -----  \n",
            " 0   student_id       64535 non-null  int64  \n",
            " 1   course_id        64535 non-null  int64  \n",
            " 2   course_name      64464 non-null  object \n",
            " 3   minutes_watched  64535 non-null  float64\n",
            " 4   date_watched     64535 non-null  object \n",
            "dtypes: float64(1), int64(2), object(2)\n",
            "memory usage: 2.5+ MB\n",
            "None\n"
          ]
        }
      ]
    },
    {
      "cell_type": "code",
      "source": [
        "course['date_watched'] = pd.to_datetime(course['date_watched'],format='%d-%m-%Y')\n",
        "course['month_name'] = course['date_watched'].dt.month_name()\n",
        "course['month_number'] = course['date_watched'].dt.month\n",
        "avg_watch_time = course.groupby(['month_name','month_number'])['minutes_watched'].agg(['mean']).sort_values('month_number')\n",
        "print(avg_watch_time)"
      ],
      "metadata": {
        "colab": {
          "base_uri": "https://localhost:8080/"
        },
        "id": "WZKirKoPJSBh",
        "outputId": "374a8b45-bb3f-4217-f3d9-cda3f736e993"
      },
      "execution_count": 58,
      "outputs": [
        {
          "output_type": "stream",
          "name": "stdout",
          "text": [
            "                              mean\n",
            "month_name month_number           \n",
            "January    1             24.445656\n",
            "February   2             28.341278\n",
            "March      3             29.680446\n",
            "April      4             29.911436\n",
            "May        5             28.271908\n",
            "June       6             27.860480\n",
            "July       7             29.303530\n",
            "August     8             31.895304\n",
            "September  9             25.749243\n",
            "October    10            27.088878\n"
          ]
        }
      ]
    },
    {
      "cell_type": "markdown",
      "source": [
        "**Information**\n",
        "\n",
        "*   March 21st – March 31st (Spring Special Offer 2022)\n",
        "\n",
        "*  April 20th – May 1st (Data Science Summer Campaign 2022)\n",
        "\n",
        "*   July 18th – July 29th (Most Wanted Campaign)\n",
        "\n",
        "**Observation**\n",
        "\n",
        "*   Average watch time was high in March, April, July, and August that's when marketing campaigns and promo periods were going on.\n",
        "\n"
      ],
      "metadata": {
        "id": "W6ublldFMP0N"
      }
    },
    {
      "cell_type": "markdown",
      "source": [
        "# **Top 5 Most Watched Courses**"
      ],
      "metadata": {
        "id": "PWAp8q4sMe9U"
      }
    },
    {
      "cell_type": "code",
      "source": [
        "print(course.head())"
      ],
      "metadata": {
        "colab": {
          "base_uri": "https://localhost:8080/"
        },
        "id": "_BD8vMv_Mo8U",
        "outputId": "758c2446-8ce6-4493-aeed-04929c45b2b5"
      },
      "execution_count": 59,
      "outputs": [
        {
          "output_type": "stream",
          "name": "stdout",
          "text": [
            "   student_id  course_id                            course_name  \\\n",
            "0      258798         23                  Introduction to Excel   \n",
            "1      258800          2                Introduction to Tableau   \n",
            "2      258800          7  Introduction to Data and Data Science   \n",
            "3      258800          7  Introduction to Data and Data Science   \n",
            "4      258800          7  Introduction to Data and Data Science   \n",
            "\n",
            "   minutes_watched date_watched month_name  month_number  \n",
            "0              0.3   2022-01-01    January             1  \n",
            "1             12.9   2022-04-01      April             4  \n",
            "2             46.8   2022-01-03    January             1  \n",
            "3              4.3   2022-01-04    January             1  \n",
            "4             31.7   2022-01-07    January             1  \n"
          ]
        }
      ]
    },
    {
      "cell_type": "code",
      "source": [
        "print(course.info())"
      ],
      "metadata": {
        "colab": {
          "base_uri": "https://localhost:8080/"
        },
        "id": "NmuVPcEqMu9E",
        "outputId": "67ad12b5-ddfd-4bab-f45a-815a91347768"
      },
      "execution_count": 60,
      "outputs": [
        {
          "output_type": "stream",
          "name": "stdout",
          "text": [
            "<class 'pandas.core.frame.DataFrame'>\n",
            "RangeIndex: 64535 entries, 0 to 64534\n",
            "Data columns (total 7 columns):\n",
            " #   Column           Non-Null Count  Dtype         \n",
            "---  ------           --------------  -----         \n",
            " 0   student_id       64535 non-null  int64         \n",
            " 1   course_id        64535 non-null  int64         \n",
            " 2   course_name      64464 non-null  object        \n",
            " 3   minutes_watched  64535 non-null  float64       \n",
            " 4   date_watched     64535 non-null  datetime64[ns]\n",
            " 5   month_name       64535 non-null  object        \n",
            " 6   month_number     64535 non-null  int64         \n",
            "dtypes: datetime64[ns](1), float64(1), int64(3), object(2)\n",
            "memory usage: 3.4+ MB\n",
            "None\n"
          ]
        }
      ]
    },
    {
      "cell_type": "code",
      "source": [
        "course_watch_time = course.groupby('course_name')['minutes_watched'].agg(['sum']).sort_values('sum',ascending=False).head(5)\n",
        "print(course_watch_time)"
      ],
      "metadata": {
        "colab": {
          "base_uri": "https://localhost:8080/"
        },
        "id": "8VuERHYnM061",
        "outputId": "896cb89b-d40e-441b-9bd3-d3493ea1397c"
      },
      "execution_count": 61,
      "outputs": [
        {
          "output_type": "stream",
          "name": "stdout",
          "text": [
            "                                            sum\n",
            "course_name                                    \n",
            "Introduction to Data and Data Science  333265.9\n",
            "SQL                                    234824.8\n",
            "Statistics                             193279.6\n",
            "Introduction to Excel                  164472.1\n",
            "Python Programmer Bootcamp             155164.3\n"
          ]
        }
      ]
    },
    {
      "cell_type": "markdown",
      "source": [
        "**Observation**\n",
        "\n",
        "*   Introduction to Data Science, SQL, Statistics, Excel and Python are top 5 most watched courses.\n",
        "\n",
        "*   Majority of the students prefer to watch basic courses compared to advance.\n",
        "\n",
        "\n",
        "\n",
        "\n",
        "\n"
      ],
      "metadata": {
        "id": "aWnsZ-lDSlgF"
      }
    },
    {
      "cell_type": "markdown",
      "source": [
        "# **Lessons Watched**"
      ],
      "metadata": {
        "id": "ScxNRQ_fvm_O"
      }
    },
    {
      "cell_type": "code",
      "source": [
        "lessons = engagement[['student_id','engagement_lessons']]\n",
        "print(lessons)"
      ],
      "metadata": {
        "id": "d737NAhBwRO9",
        "colab": {
          "base_uri": "https://localhost:8080/"
        },
        "outputId": "d0c86322-a387-49aa-ff28-dc67f88a4614"
      },
      "execution_count": 62,
      "outputs": [
        {
          "output_type": "stream",
          "name": "stdout",
          "text": [
            "       student_id  engagement_lessons\n",
            "0          274999                   1\n",
            "1          274501                   1\n",
            "2          272842                   1\n",
            "3          275173                   1\n",
            "4          274876                   0\n",
            "...           ...                 ...\n",
            "65366      295185                   1\n",
            "65367      282935                   1\n",
            "65368      292048                   1\n",
            "65369      295443                   1\n",
            "65370      284482                   1\n",
            "\n",
            "[65371 rows x 2 columns]\n"
          ]
        }
      ]
    },
    {
      "cell_type": "code",
      "source": [
        "lessons_watched = lessons.groupby(['engagement_lessons'])['student_id'].agg(['count'])\n",
        "print(lessons_watched)"
      ],
      "metadata": {
        "colab": {
          "base_uri": "https://localhost:8080/"
        },
        "id": "qQ7Cz2N55GvV",
        "outputId": "771e2520-5c5f-4542-8067-ad32fefe6678"
      },
      "execution_count": 63,
      "outputs": [
        {
          "output_type": "stream",
          "name": "stdout",
          "text": [
            "                    count\n",
            "engagement_lessons       \n",
            "0                     870\n",
            "1                   64501\n"
          ]
        }
      ]
    },
    {
      "cell_type": "markdown",
      "source": [
        "**Observation**\n",
        "\n",
        "*   98.67% of students are watching lessons.\n",
        "\n",
        "\n"
      ],
      "metadata": {
        "id": "kQzluuuS6jxd"
      }
    },
    {
      "cell_type": "markdown",
      "source": [
        "# **Quizzes Given**"
      ],
      "metadata": {
        "id": "FX6sRjoq6ksc"
      }
    },
    {
      "cell_type": "code",
      "source": [
        "quizzes = engagement[['student_id','engagement_quizzes']]\n",
        "print(quizzes)"
      ],
      "metadata": {
        "colab": {
          "base_uri": "https://localhost:8080/"
        },
        "id": "-k3FeCh-6rLM",
        "outputId": "d03c4c64-a02c-4b58-e047-8709589ddcb8"
      },
      "execution_count": 64,
      "outputs": [
        {
          "output_type": "stream",
          "name": "stdout",
          "text": [
            "       student_id  engagement_quizzes\n",
            "0          274999                   1\n",
            "1          274501                   0\n",
            "2          272842                   1\n",
            "3          275173                   0\n",
            "4          274876                   0\n",
            "...           ...                 ...\n",
            "65366      295185                   0\n",
            "65367      282935                   0\n",
            "65368      292048                   0\n",
            "65369      295443                   0\n",
            "65370      284482                   0\n",
            "\n",
            "[65371 rows x 2 columns]\n"
          ]
        }
      ]
    },
    {
      "cell_type": "code",
      "source": [
        "quizzes_given = quizzes.groupby(['engagement_quizzes'])['student_id'].agg(['count'])\n",
        "print(quizzes_given)"
      ],
      "metadata": {
        "colab": {
          "base_uri": "https://localhost:8080/"
        },
        "id": "FQeyT9Ts68_k",
        "outputId": "66c3fc61-38ea-4e10-89f1-47acb6fd6700"
      },
      "execution_count": 65,
      "outputs": [
        {
          "output_type": "stream",
          "name": "stdout",
          "text": [
            "                    count\n",
            "engagement_quizzes       \n",
            "0                   42146\n",
            "1                   23225\n"
          ]
        }
      ]
    },
    {
      "cell_type": "markdown",
      "source": [
        "**Observation**\n",
        "\n",
        "*   Only 35% of students have given quizzes rest 64% have not.\n",
        "\n",
        "\n",
        "\n",
        "\n",
        "\n",
        "\n",
        "\n",
        "\n",
        "\n"
      ],
      "metadata": {
        "id": "omcGP1Nl8TlM"
      }
    },
    {
      "cell_type": "markdown",
      "source": [
        "# **Exams Taken**"
      ],
      "metadata": {
        "id": "7-S_lbbr8VWU"
      }
    },
    {
      "cell_type": "code",
      "source": [
        "exams = engagement[['student_id','engagement_exams']]\n",
        "print(exams)"
      ],
      "metadata": {
        "colab": {
          "base_uri": "https://localhost:8080/"
        },
        "id": "ePtoEwRg8ZNU",
        "outputId": "79d4a08d-eca2-44db-bcfb-7e5dcc671dba"
      },
      "execution_count": 68,
      "outputs": [
        {
          "output_type": "stream",
          "name": "stdout",
          "text": [
            "       student_id  engagement_exams\n",
            "0          274999                 1\n",
            "1          274501                 0\n",
            "2          272842                 1\n",
            "3          275173                 0\n",
            "4          274876                 1\n",
            "...           ...               ...\n",
            "65366      295185                 0\n",
            "65367      282935                 1\n",
            "65368      292048                 0\n",
            "65369      295443                 0\n",
            "65370      284482                 0\n",
            "\n",
            "[65371 rows x 2 columns]\n"
          ]
        }
      ]
    },
    {
      "cell_type": "code",
      "source": [
        "exams_taken = exams.groupby(['engagement_exams'])['student_id'].agg(['count'])\n",
        "print(exams_taken)"
      ],
      "metadata": {
        "colab": {
          "base_uri": "https://localhost:8080/"
        },
        "id": "krt7FG1I-NRc",
        "outputId": "6bfc81cc-f4fc-4692-8fde-4189582f193f"
      },
      "execution_count": 69,
      "outputs": [
        {
          "output_type": "stream",
          "name": "stdout",
          "text": [
            "                  count\n",
            "engagement_exams       \n",
            "0                 51073\n",
            "1                 14298\n"
          ]
        }
      ]
    },
    {
      "cell_type": "markdown",
      "source": [
        "**Observation**\n",
        "\n",
        "*   Only 21.87% of students have taken exams.\n",
        "\n",
        "*   78.13% of students have not taken exams.\n",
        "\n",
        "\n",
        "\n",
        "\n"
      ],
      "metadata": {
        "id": "sAi4cVwm-pl0"
      }
    },
    {
      "cell_type": "markdown",
      "source": [
        "# **Recommendations**"
      ],
      "metadata": {
        "id": "xh_e4_yS1P72"
      }
    },
    {
      "cell_type": "markdown",
      "source": [
        "\n",
        "*   Gamify the Platform(eg.Badges, Points, Levels and Leaderboards) so it can encourage the students to learn more and engage at the same time.\n",
        "\n",
        "*   A peer-to-peer learning discussion forum can address feelings of isolation, increase engagement and provide valuable feedback for improving training processes and content.\n",
        "\n",
        "*   The next video lectures should only be unlocked once the quiz from the previous lecture is completed, since only 35% of students have given quizzes.\n",
        "\n",
        "*   Have a notification feature that will remind the students from time to time about the exam.\n",
        "\n",
        "\n",
        "\n"
      ],
      "metadata": {
        "id": "aOXTpvZB1VO-"
      }
    }
  ]
}