{
  "nbformat": 4,
  "nbformat_minor": 0,
  "metadata": {
    "colab": {
      "provenance": [],
      "collapsed_sections": [
        "puS8nTXmBB44",
        "eTAUQYEzBoM1",
        "Aaj_LEO56KCZ",
        "MjU-h8cyUsR1",
        "Kxz8Z0XIlFS5",
        "PWAp8q4sMe9U",
        "ScxNRQ_fvm_O",
        "FX6sRjoq6ksc",
        "7-S_lbbr8VWU",
        "xh_e4_yS1P72"
      ]
    },
    "kernelspec": {
      "name": "python3",
      "display_name": "Python 3"
    },
    "language_info": {
      "name": "python"
    }
  },
  "cells": [
    {
      "cell_type": "markdown",
      "source": [
        "# **Importing Libraries**"
      ],
      "metadata": {
        "id": "puS8nTXmBB44"
      }
    },
    {
      "cell_type": "code",
      "source": [
        "import pandas as pd\n",
        "import matplotlib.pyplot as plt\n",
        "import seaborn as sns"
      ],
      "metadata": {
        "id": "1hY5HxThBaI4"
      },
      "execution_count": 61,
      "outputs": []
    },
    {
      "cell_type": "markdown",
      "source": [
        "# **Read Data**"
      ],
      "metadata": {
        "id": "eTAUQYEzBoM1"
      }
    },
    {
      "cell_type": "code",
      "source": [
        "registered = pd.read_csv('registered.csv')\n",
        "engagement = pd.read_csv('engagement.csv')\n",
        "course = pd.read_csv('course.csv')"
      ],
      "metadata": {
        "id": "6dX9u9ApCGTB"
      },
      "execution_count": 62,
      "outputs": []
    },
    {
      "cell_type": "markdown",
      "source": [
        "# **Analysis**"
      ],
      "metadata": {
        "id": "o7Qiajf6RKj8"
      }
    },
    {
      "cell_type": "markdown",
      "source": [
        "# **Registered vs Active Users**"
      ],
      "metadata": {
        "id": "Aaj_LEO56KCZ"
      }
    },
    {
      "cell_type": "code",
      "source": [
        "print(registered.head())"
      ],
      "metadata": {
        "colab": {
          "base_uri": "https://localhost:8080/"
        },
        "id": "7BrEh3rfSXzs",
        "outputId": "c9c9f9ba-a93a-4203-8f6d-869e49ab17fd"
      },
      "execution_count": 63,
      "outputs": [
        {
          "output_type": "stream",
          "name": "stdout",
          "text": [
            "   student_id student_country date_registered\n",
            "0      258798              IN      2022-01-01\n",
            "1      258799              CO      2022-01-01\n",
            "2      258800              CA      2022-01-01\n",
            "3      258801              IN      2022-01-01\n",
            "4      258802              US      2022-01-01\n"
          ]
        }
      ]
    },
    {
      "cell_type": "code",
      "source": [
        "print(registered.info())"
      ],
      "metadata": {
        "colab": {
          "base_uri": "https://localhost:8080/"
        },
        "id": "bH4D_5MnCu-I",
        "outputId": "ab66695b-2394-41f5-a385-404c28cb6575"
      },
      "execution_count": 64,
      "outputs": [
        {
          "output_type": "stream",
          "name": "stdout",
          "text": [
            "<class 'pandas.core.frame.DataFrame'>\n",
            "RangeIndex: 35230 entries, 0 to 35229\n",
            "Data columns (total 3 columns):\n",
            " #   Column           Non-Null Count  Dtype \n",
            "---  ------           --------------  ----- \n",
            " 0   student_id       35230 non-null  int64 \n",
            " 1   student_country  35217 non-null  object\n",
            " 2   date_registered  35230 non-null  object\n",
            "dtypes: int64(1), object(2)\n",
            "memory usage: 825.8+ KB\n",
            "None\n"
          ]
        }
      ]
    },
    {
      "cell_type": "code",
      "source": [
        "registered = registered.drop_duplicates()\n",
        "print(registered)"
      ],
      "metadata": {
        "colab": {
          "base_uri": "https://localhost:8080/"
        },
        "id": "JBqHC7BMARHE",
        "outputId": "1ecad66b-2d33-48c4-bcb6-dfa658392b70"
      },
      "execution_count": 65,
      "outputs": [
        {
          "output_type": "stream",
          "name": "stdout",
          "text": [
            "       student_id student_country date_registered\n",
            "0          258798              IN      2022-01-01\n",
            "1          258799              CO      2022-01-01\n",
            "2          258800              CA      2022-01-01\n",
            "3          258801              IN      2022-01-01\n",
            "4          258802              US      2022-01-01\n",
            "...           ...             ...             ...\n",
            "35225      295511              CM      2022-10-20\n",
            "35226      295512              CA      2022-10-20\n",
            "35227      295513              SA      2022-10-20\n",
            "35228      295514              NL      2022-10-20\n",
            "35229      295515              SG      2022-10-20\n",
            "\n",
            "[35230 rows x 3 columns]\n"
          ]
        }
      ]
    },
    {
      "cell_type": "code",
      "source": [
        "registered['student_country'] = registered['student_country'].fillna(registered['student_country'].mode()[0])\n",
        "print(registered.info())"
      ],
      "metadata": {
        "colab": {
          "base_uri": "https://localhost:8080/"
        },
        "id": "WTSb1_uI3D6K",
        "outputId": "8103eb6b-e35e-4fb7-c603-b1c2c15543a2"
      },
      "execution_count": 66,
      "outputs": [
        {
          "output_type": "stream",
          "name": "stdout",
          "text": [
            "<class 'pandas.core.frame.DataFrame'>\n",
            "Int64Index: 35230 entries, 0 to 35229\n",
            "Data columns (total 3 columns):\n",
            " #   Column           Non-Null Count  Dtype \n",
            "---  ------           --------------  ----- \n",
            " 0   student_id       35230 non-null  int64 \n",
            " 1   student_country  35230 non-null  object\n",
            " 2   date_registered  35230 non-null  object\n",
            "dtypes: int64(1), object(2)\n",
            "memory usage: 1.1+ MB\n",
            "None\n"
          ]
        }
      ]
    },
    {
      "cell_type": "code",
      "source": [
        "registered['date_registered'] = pd.to_datetime(registered['date_registered'],format='%Y-%m-%d')\n",
        "print(registered.info())"
      ],
      "metadata": {
        "colab": {
          "base_uri": "https://localhost:8080/"
        },
        "id": "_SGPMP-JVmaj",
        "outputId": "5755992c-e7d9-4f6a-9a7c-5b3ca3566339"
      },
      "execution_count": 67,
      "outputs": [
        {
          "output_type": "stream",
          "name": "stdout",
          "text": [
            "<class 'pandas.core.frame.DataFrame'>\n",
            "Int64Index: 35230 entries, 0 to 35229\n",
            "Data columns (total 3 columns):\n",
            " #   Column           Non-Null Count  Dtype         \n",
            "---  ------           --------------  -----         \n",
            " 0   student_id       35230 non-null  int64         \n",
            " 1   student_country  35230 non-null  object        \n",
            " 2   date_registered  35230 non-null  datetime64[ns]\n",
            "dtypes: datetime64[ns](1), int64(1), object(1)\n",
            "memory usage: 1.1+ MB\n",
            "None\n"
          ]
        }
      ]
    },
    {
      "cell_type": "code",
      "source": [
        "registered['month_name'] = registered['date_registered'].dt.month_name()\n",
        "print(registered)"
      ],
      "metadata": {
        "colab": {
          "base_uri": "https://localhost:8080/"
        },
        "id": "lqGLvWQai49y",
        "outputId": "0a4f4990-65f7-4861-9925-113bd406f379"
      },
      "execution_count": 68,
      "outputs": [
        {
          "output_type": "stream",
          "name": "stdout",
          "text": [
            "       student_id student_country date_registered month_name\n",
            "0          258798              IN      2022-01-01    January\n",
            "1          258799              CO      2022-01-01    January\n",
            "2          258800              CA      2022-01-01    January\n",
            "3          258801              IN      2022-01-01    January\n",
            "4          258802              US      2022-01-01    January\n",
            "...           ...             ...             ...        ...\n",
            "35225      295511              CM      2022-10-20    October\n",
            "35226      295512              CA      2022-10-20    October\n",
            "35227      295513              SA      2022-10-20    October\n",
            "35228      295514              NL      2022-10-20    October\n",
            "35229      295515              SG      2022-10-20    October\n",
            "\n",
            "[35230 rows x 4 columns]\n"
          ]
        }
      ]
    },
    {
      "cell_type": "code",
      "source": [
        "plt.figure(figsize = (10,5))\n",
        "sns.countplot(data=registered,x='month_name',palette='Blues')"
      ],
      "metadata": {
        "colab": {
          "base_uri": "https://localhost:8080/",
          "height": 0
        },
        "id": "aCQhTrm1iowK",
        "outputId": "617dda0f-6cd5-4675-dfda-ef6cfeb8b893"
      },
      "execution_count": 69,
      "outputs": [
        {
          "output_type": "execute_result",
          "data": {
            "text/plain": [
              "<matplotlib.axes._subplots.AxesSubplot at 0x7f5011c12c10>"
            ]
          },
          "metadata": {},
          "execution_count": 69
        },
        {
          "output_type": "display_data",
          "data": {
            "text/plain": [
              "<Figure size 720x360 with 1 Axes>"
            ],
            "image/png": "[encoded data removed]"
          },
          "metadata": {
            "needs_background": "light"
          }
        }
      ]
    },
    {
      "cell_type": "code",
      "source": [
        "print(engagement.head())"
      ],
      "metadata": {
        "colab": {
          "base_uri": "https://localhost:8080/"
        },
        "id": "WOQ7LszfG5oW",
        "outputId": "7c0f81e8-5094-435d-ec25-1202c3b8c7ac"
      },
      "execution_count": 70,
      "outputs": [
        {
          "output_type": "stream",
          "name": "stdout",
          "text": [
            "   engagement_id  student_id  engagement_quizzes  engagement_exams  \\\n",
            "0              1      274999                   1                 1   \n",
            "1              3      274501                   0                 0   \n",
            "2              4      272842                   1                 1   \n",
            "3              8      275173                   0                 0   \n",
            "4             11      274876                   0                 1   \n",
            "\n",
            "   engagement_lessons date_engaged  \n",
            "0                   1   2022-05-27  \n",
            "1                   1   2022-05-27  \n",
            "2                   1   2022-05-27  \n",
            "3                   1   2022-05-27  \n",
            "4                   0   2022-05-27  \n"
          ]
        }
      ]
    },
    {
      "cell_type": "code",
      "source": [
        "print(engagement.info())"
      ],
      "metadata": {
        "colab": {
          "base_uri": "https://localhost:8080/"
        },
        "id": "rb5ciM6eGjZ-",
        "outputId": "aa5f0308-95de-43df-abef-6b4576b91bf3"
      },
      "execution_count": 71,
      "outputs": [
        {
          "output_type": "stream",
          "name": "stdout",
          "text": [
            "<class 'pandas.core.frame.DataFrame'>\n",
            "RangeIndex: 65371 entries, 0 to 65370\n",
            "Data columns (total 6 columns):\n",
            " #   Column              Non-Null Count  Dtype \n",
            "---  ------              --------------  ----- \n",
            " 0   engagement_id       65371 non-null  int64 \n",
            " 1   student_id          65371 non-null  int64 \n",
            " 2   engagement_quizzes  65371 non-null  int64 \n",
            " 3   engagement_exams    65371 non-null  int64 \n",
            " 4   engagement_lessons  65371 non-null  int64 \n",
            " 5   date_engaged        65371 non-null  object\n",
            "dtypes: int64(5), object(1)\n",
            "memory usage: 3.0+ MB\n",
            "None\n"
          ]
        }
      ]
    },
    {
      "cell_type": "code",
      "source": [
        "lessons = engagement.loc[engagement['engagement_lessons']==1][['student_id','date_engaged']]\n",
        "quizzes = engagement.loc[engagement['engagement_quizzes']==1][['student_id','date_engaged']]\n",
        "exams = engagement.loc[engagement['engagement_exams']==1][['student_id','date_engaged']]\n",
        "active = pd.concat([lessons,quizzes,exams])\n",
        "active = active.drop_duplicates(subset=['student_id']).reset_index()\n",
        "print(active)"
      ],
      "metadata": {
        "colab": {
          "base_uri": "https://localhost:8080/"
        },
        "id": "NWYaXAGlVDOc",
        "outputId": "d52e0277-0026-4851-b83b-09e0b870151b"
      },
      "execution_count": 72,
      "outputs": [
        {
          "output_type": "stream",
          "name": "stdout",
          "text": [
            "       index  student_id date_engaged\n",
            "0          0      274999   2022-05-27\n",
            "1          1      274501   2022-05-27\n",
            "2          2      272842   2022-05-27\n",
            "3          3      275173   2022-05-27\n",
            "4          5      275020   2022-05-27\n",
            "...      ...         ...          ...\n",
            "18339  60390      293554   2022-10-06\n",
            "18340  62106      294283   2022-10-11\n",
            "18341  62711      294508   2022-10-13\n",
            "18342  64153      295073   2022-10-17\n",
            "18343  65242      295453   2022-10-20\n",
            "\n",
            "[18344 rows x 3 columns]\n"
          ]
        }
      ]
    },
    {
      "cell_type": "code",
      "source": [
        "print(active.info())"
      ],
      "metadata": {
        "colab": {
          "base_uri": "https://localhost:8080/"
        },
        "id": "Y2Ft72f8WSkD",
        "outputId": "ad8da716-f8ba-4d32-b088-d89e4f1dba47"
      },
      "execution_count": 73,
      "outputs": [
        {
          "output_type": "stream",
          "name": "stdout",
          "text": [
            "<class 'pandas.core.frame.DataFrame'>\n",
            "RangeIndex: 18344 entries, 0 to 18343\n",
            "Data columns (total 3 columns):\n",
            " #   Column        Non-Null Count  Dtype \n",
            "---  ------        --------------  ----- \n",
            " 0   index         18344 non-null  int64 \n",
            " 1   student_id    18344 non-null  int64 \n",
            " 2   date_engaged  18344 non-null  object\n",
            "dtypes: int64(2), object(1)\n",
            "memory usage: 430.1+ KB\n",
            "None\n"
          ]
        }
      ]
    },
    {
      "cell_type": "code",
      "source": [
        "active['date_engaged'] = pd.to_datetime(active['date_engaged'],format='%Y-%m-%d')\n",
        "print(active.info())"
      ],
      "metadata": {
        "colab": {
          "base_uri": "https://localhost:8080/"
        },
        "id": "GrPUIxKngNiz",
        "outputId": "1413c7cd-18f9-4427-e1a3-795b9b41ca12"
      },
      "execution_count": 74,
      "outputs": [
        {
          "output_type": "stream",
          "name": "stdout",
          "text": [
            "<class 'pandas.core.frame.DataFrame'>\n",
            "RangeIndex: 18344 entries, 0 to 18343\n",
            "Data columns (total 3 columns):\n",
            " #   Column        Non-Null Count  Dtype         \n",
            "---  ------        --------------  -----         \n",
            " 0   index         18344 non-null  int64         \n",
            " 1   student_id    18344 non-null  int64         \n",
            " 2   date_engaged  18344 non-null  datetime64[ns]\n",
            "dtypes: datetime64[ns](1), int64(2)\n",
            "memory usage: 430.1 KB\n",
            "None\n"
          ]
        }
      ]
    },
    {
      "cell_type": "code",
      "source": [
        "active['month_name'] = active['date_engaged'].dt.month_name()\n",
        "print(active)"
      ],
      "metadata": {
        "colab": {
          "base_uri": "https://localhost:8080/"
        },
        "id": "FoS6UbjJm_GK",
        "outputId": "5ddc95a0-a454-4b94-ef33-3b741c8ea78f"
      },
      "execution_count": 75,
      "outputs": [
        {
          "output_type": "stream",
          "name": "stdout",
          "text": [
            "       index  student_id date_engaged month_name\n",
            "0          0      274999   2022-05-27        May\n",
            "1          1      274501   2022-05-27        May\n",
            "2          2      272842   2022-05-27        May\n",
            "3          3      275173   2022-05-27        May\n",
            "4          5      275020   2022-05-27        May\n",
            "...      ...         ...          ...        ...\n",
            "18339  60390      293554   2022-10-06    October\n",
            "18340  62106      294283   2022-10-11    October\n",
            "18341  62711      294508   2022-10-13    October\n",
            "18342  64153      295073   2022-10-17    October\n",
            "18343  65242      295453   2022-10-20    October\n",
            "\n",
            "[18344 rows x 4 columns]\n"
          ]
        }
      ]
    },
    {
      "cell_type": "code",
      "source": [
        "plt.figure(figsize = (10,5))\n",
        "sns.countplot(data=active,x='month_name',palette='RdPu')"
      ],
      "metadata": {
        "colab": {
          "base_uri": "https://localhost:8080/",
          "height": 0
        },
        "id": "q1l_u_nLg-7T",
        "outputId": "751b5ce5-ca2e-4a1b-ede5-d25c30e3daaf"
      },
      "execution_count": 76,
      "outputs": [
        {
          "output_type": "execute_result",
          "data": {
            "text/plain": [
              "<matplotlib.axes._subplots.AxesSubplot at 0x7f50117616d0>"
            ]
          },
          "metadata": {},
          "execution_count": 76
        },
        {
          "output_type": "display_data",
          "data": {
            "text/plain": [
              "<Figure size 720x360 with 1 Axes>"
            ],
            "image/png": "[encoded data removed]"
          },
          "metadata": {
            "needs_background": "light"
          }
        }
      ]
    },
    {
      "cell_type": "markdown",
      "source": [
        "**Information**\n",
        "\n",
        "Registered Users - Users who have completed signing up process in order to use the platform\n",
        "\n",
        "Active Users - Users who have atleast done one of the following:\n",
        "*   Watched Lesson\n",
        "*   Given Quiz\n",
        "*   Taken Exam\n",
        "\n",
        "**Observation**\n",
        "\n",
        "*   Out of total registered students every month only 50% of them are actively\n",
        "using the platform for either learning or taking quizzes or exams which means the engagement of students with the platform is pretty low.\n"
      ],
      "metadata": {
        "id": "XBMriVS86cjv"
      }
    },
    {
      "cell_type": "markdown",
      "source": [
        "# **Top 5 Countries by Student Registration**"
      ],
      "metadata": {
        "id": "MjU-h8cyUsR1"
      }
    },
    {
      "cell_type": "code",
      "source": [
        "freq_dict_country = {}\n",
        "for country in registered['student_country']:\n",
        "  if country in freq_dict_country:\n",
        "    freq_dict_country[country] = freq_dict_country[country] + 1\n",
        "  else:\n",
        "    freq_dict_country[country] = 1\n",
        "country = pd.DataFrame(freq_dict_country.items(),columns=['country','count'])\n",
        "print(country)"
      ],
      "metadata": {
        "id": "In-tvsB9VAx7",
        "colab": {
          "base_uri": "https://localhost:8080/"
        },
        "outputId": "f1312537-7676-46bf-e332-d7b2dde88624"
      },
      "execution_count": 77,
      "outputs": [
        {
          "output_type": "stream",
          "name": "stdout",
          "text": [
            "    country  count\n",
            "0        IN   6946\n",
            "1        CO    157\n",
            "2        CA   1180\n",
            "3        US   4768\n",
            "4        BD    362\n",
            "..      ...    ...\n",
            "175      GU      1\n",
            "176      FJ      5\n",
            "177      KY      1\n",
            "178      VI      1\n",
            "179      IS      2\n",
            "\n",
            "[180 rows x 2 columns]\n"
          ]
        }
      ]
    },
    {
      "cell_type": "code",
      "source": [
        "top_5_country = country.sort_values('count',axis=0,ascending=False).head(5)\n",
        "print(top_5_country.reset_index(drop=True))\n",
        "sns.barplot(data=top_5_country,x='count',y='country',palette='GnBu_d')"
      ],
      "metadata": {
        "colab": {
          "base_uri": "https://localhost:8080/",
          "height": 0
        },
        "id": "HPZefmVLhiDZ",
        "outputId": "5deb4c4c-db65-433b-cec4-23f7ec2b3b99"
      },
      "execution_count": 78,
      "outputs": [
        {
          "output_type": "stream",
          "name": "stdout",
          "text": [
            "  country  count\n",
            "0      IN   6946\n",
            "1      US   4768\n",
            "2      EG   3003\n",
            "3      GB   1748\n",
            "4      NG   1718\n"
          ]
        },
        {
          "output_type": "execute_result",
          "data": {
            "text/plain": [
              "<matplotlib.axes._subplots.AxesSubplot at 0x7f5011dbfb20>"
            ]
          },
          "metadata": {},
          "execution_count": 78
        },
        {
          "output_type": "display_data",
          "data": {
            "text/plain": [
              "<Figure size 432x288 with 1 Axes>"
            ],
            "image/png": "[encoded data removed]"
          },
          "metadata": {
            "needs_background": "light"
          }
        }
      ]
    },
    {
      "cell_type": "markdown",
      "source": [
        "**Observation**\n",
        "\n",
        "*   Most Registered Students are from India ie. 20% followed by US 13% and then Egypt with 8%.\n"
      ],
      "metadata": {
        "id": "upTQmdralB9B"
      }
    },
    {
      "cell_type": "markdown",
      "source": [
        "# **Average Watch Time Every Month**"
      ],
      "metadata": {
        "id": "Kxz8Z0XIlFS5"
      }
    },
    {
      "cell_type": "code",
      "source": [
        "print(course.head())"
      ],
      "metadata": {
        "colab": {
          "base_uri": "https://localhost:8080/"
        },
        "id": "5tzxNGxnAxTm",
        "outputId": "241e5442-b6f4-4c27-9964-975ecc56a7c9"
      },
      "execution_count": 79,
      "outputs": [
        {
          "output_type": "stream",
          "name": "stdout",
          "text": [
            "   student_id  course_id                            course_name  \\\n",
            "0      258798         23                  Introduction to Excel   \n",
            "1      258800          2                Introduction to Tableau   \n",
            "2      258800          7  Introduction to Data and Data Science   \n",
            "3      258800          7  Introduction to Data and Data Science   \n",
            "4      258800          7  Introduction to Data and Data Science   \n",
            "\n",
            "   minutes_watched date_watched  \n",
            "0              0.3   01-01-2022  \n",
            "1             12.9   01-04-2022  \n",
            "2             46.8   03-01-2022  \n",
            "3              4.3   04-01-2022  \n",
            "4             31.7   07-01-2022  \n"
          ]
        }
      ]
    },
    {
      "cell_type": "code",
      "source": [
        "print(course.info())"
      ],
      "metadata": {
        "colab": {
          "base_uri": "https://localhost:8080/"
        },
        "id": "fzFNnZ2AHVUm",
        "outputId": "b30460a6-603a-4dc8-dc18-38c021adf438"
      },
      "execution_count": 80,
      "outputs": [
        {
          "output_type": "stream",
          "name": "stdout",
          "text": [
            "<class 'pandas.core.frame.DataFrame'>\n",
            "RangeIndex: 64535 entries, 0 to 64534\n",
            "Data columns (total 5 columns):\n",
            " #   Column           Non-Null Count  Dtype  \n",
            "---  ------           --------------  -----  \n",
            " 0   student_id       64535 non-null  int64  \n",
            " 1   course_id        64535 non-null  int64  \n",
            " 2   course_name      64464 non-null  object \n",
            " 3   minutes_watched  64535 non-null  float64\n",
            " 4   date_watched     64535 non-null  object \n",
            "dtypes: float64(1), int64(2), object(2)\n",
            "memory usage: 2.5+ MB\n",
            "None\n"
          ]
        }
      ]
    },
    {
      "cell_type": "code",
      "source": [
        "course['date_watched'] = pd.to_datetime(course['date_watched'],format='%d-%m-%Y')\n",
        "course['month_name'] = course['date_watched'].dt.month_name()\n",
        "course['month_number'] = course['date_watched'].dt.month\n",
        "avg_watch_time = course.groupby(['month_name','month_number'])['minutes_watched'].agg(['mean']).sort_values('month_number')\n",
        "print(avg_watch_time)"
      ],
      "metadata": {
        "colab": {
          "base_uri": "https://localhost:8080/"
        },
        "id": "WZKirKoPJSBh",
        "outputId": "6c93b9aa-cba6-422b-b9ef-d4f1e9ab5731"
      },
      "execution_count": 81,
      "outputs": [
        {
          "output_type": "stream",
          "name": "stdout",
          "text": [
            "                              mean\n",
            "month_name month_number           \n",
            "January    1             24.445656\n",
            "February   2             28.341278\n",
            "March      3             29.680446\n",
            "April      4             29.911436\n",
            "May        5             28.271908\n",
            "June       6             27.860480\n",
            "July       7             29.303530\n",
            "August     8             31.895304\n",
            "September  9             25.749243\n",
            "October    10            27.088878\n"
          ]
        }
      ]
    },
    {
      "cell_type": "markdown",
      "source": [
        "**Information**\n",
        "\n",
        "*   March 21st – March 31st (Spring Special Offer 2022)\n",
        "\n",
        "*  April 20th – May 1st (Data Science Summer Campaign 2022)\n",
        "\n",
        "*   July 18th – July 29th (Most Wanted Campaign)\n",
        "\n",
        "**Observation**\n",
        "\n",
        "*   Average watch time was high in March, April, July, and August that's when marketing campaigns and promo periods were going on.\n",
        "\n"
      ],
      "metadata": {
        "id": "W6ublldFMP0N"
      }
    },
    {
      "cell_type": "markdown",
      "source": [
        "# **Top 5 Most Watched Courses**"
      ],
      "metadata": {
        "id": "PWAp8q4sMe9U"
      }
    },
    {
      "cell_type": "code",
      "source": [
        "print(course.head())"
      ],
      "metadata": {
        "colab": {
          "base_uri": "https://localhost:8080/"
        },
        "id": "_BD8vMv_Mo8U",
        "outputId": "623d1698-ffa0-4399-eef6-7e7440e3d1bf"
      },
      "execution_count": 82,
      "outputs": [
        {
          "output_type": "stream",
          "name": "stdout",
          "text": [
            "   student_id  course_id                            course_name  \\\n",
            "0      258798         23                  Introduction to Excel   \n",
            "1      258800          2                Introduction to Tableau   \n",
            "2      258800          7  Introduction to Data and Data Science   \n",
            "3      258800          7  Introduction to Data and Data Science   \n",
            "4      258800          7  Introduction to Data and Data Science   \n",
            "\n",
            "   minutes_watched date_watched month_name  month_number  \n",
            "0              0.3   2022-01-01    January             1  \n",
            "1             12.9   2022-04-01      April             4  \n",
            "2             46.8   2022-01-03    January             1  \n",
            "3              4.3   2022-01-04    January             1  \n",
            "4             31.7   2022-01-07    January             1  \n"
          ]
        }
      ]
    },
    {
      "cell_type": "code",
      "source": [
        "print(course.info())"
      ],
      "metadata": {
        "colab": {
          "base_uri": "https://localhost:8080/"
        },
        "id": "NmuVPcEqMu9E",
        "outputId": "a36e6403-9598-40b9-e54c-6862ffe91db6"
      },
      "execution_count": 83,
      "outputs": [
        {
          "output_type": "stream",
          "name": "stdout",
          "text": [
            "<class 'pandas.core.frame.DataFrame'>\n",
            "RangeIndex: 64535 entries, 0 to 64534\n",
            "Data columns (total 7 columns):\n",
            " #   Column           Non-Null Count  Dtype         \n",
            "---  ------           --------------  -----         \n",
            " 0   student_id       64535 non-null  int64         \n",
            " 1   course_id        64535 non-null  int64         \n",
            " 2   course_name      64464 non-null  object        \n",
            " 3   minutes_watched  64535 non-null  float64       \n",
            " 4   date_watched     64535 non-null  datetime64[ns]\n",
            " 5   month_name       64535 non-null  object        \n",
            " 6   month_number     64535 non-null  int64         \n",
            "dtypes: datetime64[ns](1), float64(1), int64(3), object(2)\n",
            "memory usage: 3.4+ MB\n",
            "None\n"
          ]
        }
      ]
    },
    {
      "cell_type": "code",
      "source": [
        "course_watch_time = course.groupby('course_name')['minutes_watched'].agg(['sum']).sort_values('sum',ascending=False).head(5)\n",
        "print(course_watch_time)"
      ],
      "metadata": {
        "colab": {
          "base_uri": "https://localhost:8080/"
        },
        "id": "8VuERHYnM061",
        "outputId": "112131c4-2682-472a-e22a-9b684cb505f3"
      },
      "execution_count": 84,
      "outputs": [
        {
          "output_type": "stream",
          "name": "stdout",
          "text": [
            "                                            sum\n",
            "course_name                                    \n",
            "Introduction to Data and Data Science  333265.9\n",
            "SQL                                    234824.8\n",
            "Statistics                             193279.6\n",
            "Introduction to Excel                  164472.1\n",
            "Python Programmer Bootcamp             155164.3\n"
          ]
        }
      ]
    },
    {
      "cell_type": "markdown",
      "source": [
        "**Observation**\n",
        "\n",
        "*   Introduction to Data Science, SQL, Statistics, Excel and Python are top 5 most watched courses.\n",
        "\n",
        "*   Majority of the students prefer to watch basic courses compared to advance.\n",
        "\n",
        "\n",
        "\n",
        "\n",
        "\n"
      ],
      "metadata": {
        "id": "aWnsZ-lDSlgF"
      }
    },
    {
      "cell_type": "markdown",
      "source": [
        "# **Lessons Watched**"
      ],
      "metadata": {
        "id": "ScxNRQ_fvm_O"
      }
    },
    {
      "cell_type": "code",
      "source": [
        "lessons = engagement[['student_id','engagement_lessons']]\n",
        "print(lessons)"
      ],
      "metadata": {
        "id": "d737NAhBwRO9",
        "colab": {
          "base_uri": "https://localhost:8080/"
        },
        "outputId": "bf273a18-ca67-4454-e552-6c9079d0d512"
      },
      "execution_count": 85,
      "outputs": [
        {
          "output_type": "stream",
          "name": "stdout",
          "text": [
            "       student_id  engagement_lessons\n",
            "0          274999                   1\n",
            "1          274501                   1\n",
            "2          272842                   1\n",
            "3          275173                   1\n",
            "4          274876                   0\n",
            "...           ...                 ...\n",
            "65366      295185                   1\n",
            "65367      282935                   1\n",
            "65368      292048                   1\n",
            "65369      295443                   1\n",
            "65370      284482                   1\n",
            "\n",
            "[65371 rows x 2 columns]\n"
          ]
        }
      ]
    },
    {
      "cell_type": "code",
      "source": [
        "lessons_watched = lessons.groupby(['engagement_lessons'])['student_id'].agg(['count'])\n",
        "print(lessons_watched)"
      ],
      "metadata": {
        "colab": {
          "base_uri": "https://localhost:8080/"
        },
        "id": "qQ7Cz2N55GvV",
        "outputId": "d5b67da8-c3b7-4ea5-978f-9b6476789a71"
      },
      "execution_count": 86,
      "outputs": [
        {
          "output_type": "stream",
          "name": "stdout",
          "text": [
            "                    count\n",
            "engagement_lessons       \n",
            "0                     870\n",
            "1                   64501\n"
          ]
        }
      ]
    },
    {
      "cell_type": "markdown",
      "source": [
        "**Observation**\n",
        "\n",
        "*   99% of students are watching lessons.\n",
        "\n",
        "\n"
      ],
      "metadata": {
        "id": "kQzluuuS6jxd"
      }
    },
    {
      "cell_type": "markdown",
      "source": [
        "# **Quizzes Given**"
      ],
      "metadata": {
        "id": "FX6sRjoq6ksc"
      }
    },
    {
      "cell_type": "code",
      "source": [
        "quizzes = engagement[['student_id','engagement_quizzes']]\n",
        "print(quizzes)"
      ],
      "metadata": {
        "colab": {
          "base_uri": "https://localhost:8080/"
        },
        "id": "-k3FeCh-6rLM",
        "outputId": "29d1eeeb-0889-499d-b4bd-1de38de60c41"
      },
      "execution_count": 87,
      "outputs": [
        {
          "output_type": "stream",
          "name": "stdout",
          "text": [
            "       student_id  engagement_quizzes\n",
            "0          274999                   1\n",
            "1          274501                   0\n",
            "2          272842                   1\n",
            "3          275173                   0\n",
            "4          274876                   0\n",
            "...           ...                 ...\n",
            "65366      295185                   0\n",
            "65367      282935                   0\n",
            "65368      292048                   0\n",
            "65369      295443                   0\n",
            "65370      284482                   0\n",
            "\n",
            "[65371 rows x 2 columns]\n"
          ]
        }
      ]
    },
    {
      "cell_type": "code",
      "source": [
        "quizzes_given = quizzes.groupby(['engagement_quizzes'])['student_id'].agg(['count'])\n",
        "print(quizzes_given)"
      ],
      "metadata": {
        "colab": {
          "base_uri": "https://localhost:8080/"
        },
        "id": "FQeyT9Ts68_k",
        "outputId": "2ea94083-9063-41dc-c04c-7bc97b8dd391"
      },
      "execution_count": 88,
      "outputs": [
        {
          "output_type": "stream",
          "name": "stdout",
          "text": [
            "                    count\n",
            "engagement_quizzes       \n",
            "0                   42146\n",
            "1                   23225\n"
          ]
        }
      ]
    },
    {
      "cell_type": "markdown",
      "source": [
        "**Observation**\n",
        "\n",
        "*   Only 35% of students have given quizzes rest 64% have not.\n",
        "\n",
        "\n",
        "\n",
        "\n",
        "\n",
        "\n",
        "\n",
        "\n",
        "\n"
      ],
      "metadata": {
        "id": "omcGP1Nl8TlM"
      }
    },
    {
      "cell_type": "markdown",
      "source": [
        "# **Exams Taken**"
      ],
      "metadata": {
        "id": "7-S_lbbr8VWU"
      }
    },
    {
      "cell_type": "code",
      "source": [
        "exams = engagement[['student_id','engagement_exams']]\n",
        "print(exams)"
      ],
      "metadata": {
        "colab": {
          "base_uri": "https://localhost:8080/"
        },
        "id": "ePtoEwRg8ZNU",
        "outputId": "ef20a4a6-626b-4054-8d66-5a6d16d15a53"
      },
      "execution_count": 89,
      "outputs": [
        {
          "output_type": "stream",
          "name": "stdout",
          "text": [
            "       student_id  engagement_exams\n",
            "0          274999                 1\n",
            "1          274501                 0\n",
            "2          272842                 1\n",
            "3          275173                 0\n",
            "4          274876                 1\n",
            "...           ...               ...\n",
            "65366      295185                 0\n",
            "65367      282935                 1\n",
            "65368      292048                 0\n",
            "65369      295443                 0\n",
            "65370      284482                 0\n",
            "\n",
            "[65371 rows x 2 columns]\n"
          ]
        }
      ]
    },
    {
      "cell_type": "code",
      "source": [
        "exams_taken = exams.groupby(['engagement_exams'])['student_id'].agg(['count'])\n",
        "print(exams_taken)"
      ],
      "metadata": {
        "colab": {
          "base_uri": "https://localhost:8080/"
        },
        "id": "krt7FG1I-NRc",
        "outputId": "d98c2271-574d-4dc1-a997-9b053798618d"
      },
      "execution_count": 90,
      "outputs": [
        {
          "output_type": "stream",
          "name": "stdout",
          "text": [
            "                  count\n",
            "engagement_exams       \n",
            "0                 51073\n",
            "1                 14298\n"
          ]
        }
      ]
    },
    {
      "cell_type": "markdown",
      "source": [
        "**Observation**\n",
        "\n",
        "*   Only 22% of students have taken exams.\n",
        "\n",
        "*   78% of students have not taken exams.\n",
        "\n",
        "\n",
        "\n",
        "\n"
      ],
      "metadata": {
        "id": "sAi4cVwm-pl0"
      }
    },
    {
      "cell_type": "markdown",
      "source": [
        "# **Recommendations**"
      ],
      "metadata": {
        "id": "xh_e4_yS1P72"
      }
    },
    {
      "cell_type": "markdown",
      "source": [
        "\n",
        "*   Gamify the Platform(eg.Badges, Points, Levels and Leaderboards) so it can encourage the students to learn more and engage at the same time.\n",
        "\n",
        "*   A peer-to-peer learning discussion forum can address feelings of isolation, increase engagement and provide a valuable feedback at the same time for improving training processes and content.\n",
        "\n",
        "*   The next video lectures should only be unlocked once the quiz from the previous lecture is completed, since only 35% of students have given quizzes.\n",
        "\n",
        "*   Have a notification feature that will remind the students from time to time about the exam as only 22% of students have taken exam so far.\n",
        "\n",
        "\n",
        "\n"
      ],
      "metadata": {
        "id": "aOXTpvZB1VO-"
      }
    }
  ]
}